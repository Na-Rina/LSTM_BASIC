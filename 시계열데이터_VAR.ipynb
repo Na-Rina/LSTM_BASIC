{
  "cells": [
    {
      "cell_type": "code",
      "execution_count": null,
      "metadata": {
        "id": "GKntA68fxGsW"
      },
      "outputs": [],
      "source": [
        "from statsmodels.graphics.tsaplots import plot_acf, plot_pacf\n",
        "from statsmodels.tsa.statespace.varmax import VARMAX\n",
        "from statsmodels.tsa.api import VAR\n",
        "from statsmodels.tsa.stattools import grangercausalitytests, adfuller\n",
        "from tqdm import tqdm_notebook\n",
        "from itertools import product\n",
        "\n",
        "import matplotlib.pyplot as plt\n",
        "import statsmodels.api as sm\n",
        "import pandas as pd\n",
        "import numpy as np\n",
        "\n",
        "import warnings\n",
        "warnings.filterwarnings('ignore')\n"
      ]
    },
    {
      "cell_type": "code",
      "execution_count": null,
      "metadata": {
        "id": "VE52gcsixGsZ",
        "outputId": "684bd856-bf64-4f96-e2b0-756c4de3861b"
      },
      "outputs": [
        {
          "name": "stdout",
          "output_type": "stream",
          "text": [
            "(123, 8)\n"
          ]
        },
        {
          "data": {
            "text/html": [
              "<div>\n",
              "<style scoped>\n",
              "    .dataframe tbody tr th:only-of-type {\n",
              "        vertical-align: middle;\n",
              "    }\n",
              "\n",
              "    .dataframe tbody tr th {\n",
              "        vertical-align: top;\n",
              "    }\n",
              "\n",
              "    .dataframe thead th {\n",
              "        text-align: right;\n",
              "    }\n",
              "</style>\n",
              "<table border=\"1\" class=\"dataframe\">\n",
              "  <thead>\n",
              "    <tr style=\"text-align: right;\">\n",
              "      <th></th>\n",
              "      <th>rgnp</th>\n",
              "      <th>pgnp</th>\n",
              "      <th>ulc</th>\n",
              "      <th>gdfco</th>\n",
              "      <th>gdf</th>\n",
              "      <th>gdfim</th>\n",
              "      <th>gdfcf</th>\n",
              "      <th>gdfce</th>\n",
              "    </tr>\n",
              "    <tr>\n",
              "      <th>date</th>\n",
              "      <th></th>\n",
              "      <th></th>\n",
              "      <th></th>\n",
              "      <th></th>\n",
              "      <th></th>\n",
              "      <th></th>\n",
              "      <th></th>\n",
              "      <th></th>\n",
              "    </tr>\n",
              "  </thead>\n",
              "  <tbody>\n",
              "    <tr>\n",
              "      <th>1959-01-01</th>\n",
              "      <td>1606.4</td>\n",
              "      <td>1608.3</td>\n",
              "      <td>47.5</td>\n",
              "      <td>36.9</td>\n",
              "      <td>37.4</td>\n",
              "      <td>26.9</td>\n",
              "      <td>32.3</td>\n",
              "      <td>23.1</td>\n",
              "    </tr>\n",
              "    <tr>\n",
              "      <th>1959-04-01</th>\n",
              "      <td>1637.0</td>\n",
              "      <td>1622.2</td>\n",
              "      <td>47.5</td>\n",
              "      <td>37.4</td>\n",
              "      <td>37.5</td>\n",
              "      <td>27.0</td>\n",
              "      <td>32.2</td>\n",
              "      <td>23.4</td>\n",
              "    </tr>\n",
              "    <tr>\n",
              "      <th>1959-07-01</th>\n",
              "      <td>1629.5</td>\n",
              "      <td>1636.2</td>\n",
              "      <td>48.7</td>\n",
              "      <td>37.6</td>\n",
              "      <td>37.6</td>\n",
              "      <td>27.1</td>\n",
              "      <td>32.4</td>\n",
              "      <td>23.4</td>\n",
              "    </tr>\n",
              "    <tr>\n",
              "      <th>1959-10-01</th>\n",
              "      <td>1643.4</td>\n",
              "      <td>1650.3</td>\n",
              "      <td>48.8</td>\n",
              "      <td>37.7</td>\n",
              "      <td>37.8</td>\n",
              "      <td>27.1</td>\n",
              "      <td>32.5</td>\n",
              "      <td>23.8</td>\n",
              "    </tr>\n",
              "    <tr>\n",
              "      <th>1960-01-01</th>\n",
              "      <td>1671.6</td>\n",
              "      <td>1664.6</td>\n",
              "      <td>49.1</td>\n",
              "      <td>37.8</td>\n",
              "      <td>37.8</td>\n",
              "      <td>27.2</td>\n",
              "      <td>32.4</td>\n",
              "      <td>23.8</td>\n",
              "    </tr>\n",
              "  </tbody>\n",
              "</table>\n",
              "</div>"
            ],
            "text/plain": [
              "              rgnp    pgnp   ulc  gdfco   gdf  gdfim  gdfcf  gdfce\n",
              "date                                                              \n",
              "1959-01-01  1606.4  1608.3  47.5   36.9  37.4   26.9   32.3   23.1\n",
              "1959-04-01  1637.0  1622.2  47.5   37.4  37.5   27.0   32.2   23.4\n",
              "1959-07-01  1629.5  1636.2  48.7   37.6  37.6   27.1   32.4   23.4\n",
              "1959-10-01  1643.4  1650.3  48.8   37.7  37.8   27.1   32.5   23.8\n",
              "1960-01-01  1671.6  1664.6  49.1   37.8  37.8   27.2   32.4   23.8"
            ]
          },
          "execution_count": 2,
          "metadata": {},
          "output_type": "execute_result"
        }
      ],
      "source": [
        "filepath = 'https://raw.githubusercontent.com/selva86/datasets/master/Raotbl6.csv'\n",
        "macro_data = pd.read_csv(filepath, parse_dates=['date'], index_col='date')\n",
        "print(macro_data.shape)  # (123, 8)\n",
        "macro_data.head()"
      ]
    },
    {
      "cell_type": "code",
      "execution_count": null,
      "metadata": {
        "id": "oSHDx2L8xGsb",
        "outputId": "4d43cb31-1c63-4b18-ad28-0b36b2ef56f6"
      },
      "outputs": [
        {
          "data": {
            "image/png": "[encoded data removed]",
            "text/plain": [
              "<Figure size 1200x720 with 8 Axes>"
            ]
          },
          "metadata": {},
          "output_type": "display_data"
        }
      ],
      "source": [
        "fig, axes = plt.subplots(nrows=4, ncols=2, dpi=120, figsize=(10,6))\n",
        "for i, ax in enumerate(axes.flatten()):\n",
        "    data = macro_data[macro_data.columns[i]]\n",
        "    ax.plot(data, color='red', linewidth=1)\n",
        "    # Decorations\n",
        "    ax.set_title(macro_data.columns[i])\n",
        "    ax.xaxis.set_ticks_position('none')\n",
        "    ax.yaxis.set_ticks_position('none')\n",
        "    ax.spines[\"top\"].set_alpha(0)\n",
        "    ax.tick_params(labelsize=6)\n",
        "\n",
        "plt.tight_layout();"
      ]
    },
    {
      "cell_type": "code",
      "execution_count": null,
      "metadata": {
        "id": "g0T0VMOhxGsc",
        "outputId": "39039fb0-dc8b-4173-90f7-5e85de335d0b"
      },
      "outputs": [
        {
          "name": "stdout",
          "output_type": "stream",
          "text": [
            "realgdp\n",
            "ADF Statistic: -5.427594381007334\n",
            "p-value: 2.9633019848468996e-06\n",
            "\n",
            "---------------------\n",
            "\n",
            "realcons\n",
            "ADF Statistic: -3.5760804731509115\n",
            "p-value: 0.006235131830238156\n"
          ]
        }
      ],
      "source": [
        "ad_fuller_result_1 = adfuller(macro_data['rgnp'].diff()[1:])\n",
        "\n",
        "print('realgdp')\n",
        "print(f'ADF Statistic: {ad_fuller_result_1[0]}')\n",
        "print(f'p-value: {ad_fuller_result_1[1]}')\n",
        "\n",
        "print('\\n---------------------\\n')\n",
        "\n",
        "ad_fuller_result_2 = adfuller(macro_data['ulc'].diff()[1:])\n",
        "\n",
        "print('realcons')\n",
        "print(f'ADF Statistic: {ad_fuller_result_2[0]}')\n",
        "print(f'p-value: {ad_fuller_result_2[1]}')"
      ]
    },
    {
      "cell_type": "code",
      "execution_count": null,
      "metadata": {
        "id": "Nz7K9HIMxGsc",
        "outputId": "e4d58a62-5f6f-4f3d-f8ad-de5bd3e8bf93"
      },
      "outputs": [
        {
          "name": "stdout",
          "output_type": "stream",
          "text": [
            "rgnp causes ulc?\n",
            "\n",
            "------------------\n",
            "\n",
            "Granger Causality\n",
            "number of lags (no zero) 1\n",
            "ssr based F test:         F=22.3802 , p=0.0000  , df_denom=119, df_num=1\n",
            "ssr based chi2 test:   chi2=22.9444 , p=0.0000  , df=1\n",
            "likelihood ratio test: chi2=21.0242 , p=0.0000  , df=1\n",
            "parameter F test:         F=22.3802 , p=0.0000  , df_denom=119, df_num=1\n",
            "\n",
            "Granger Causality\n",
            "number of lags (no zero) 2\n",
            "ssr based F test:         F=7.7188  , p=0.0007  , df_denom=116, df_num=2\n",
            "ssr based chi2 test:   chi2=16.1029 , p=0.0003  , df=2\n",
            "likelihood ratio test: chi2=15.1179 , p=0.0005  , df=2\n",
            "parameter F test:         F=7.7188  , p=0.0007  , df_denom=116, df_num=2\n",
            "\n",
            "Granger Causality\n",
            "number of lags (no zero) 3\n",
            "ssr based F test:         F=7.5231  , p=0.0001  , df_denom=113, df_num=3\n",
            "ssr based chi2 test:   chi2=23.9675 , p=0.0000  , df=3\n",
            "likelihood ratio test: chi2=21.8515 , p=0.0001  , df=3\n",
            "parameter F test:         F=7.5231  , p=0.0001  , df_denom=113, df_num=3\n",
            "\n",
            "Granger Causality\n",
            "number of lags (no zero) 4\n",
            "ssr based F test:         F=8.3018  , p=0.0000  , df_denom=110, df_num=4\n",
            "ssr based chi2 test:   chi2=35.9239 , p=0.0000  , df=4\n",
            "likelihood ratio test: chi2=31.3935 , p=0.0000  , df=4\n",
            "parameter F test:         F=8.3018  , p=0.0000  , df_denom=110, df_num=4\n",
            "\n",
            "ulc causes rgnp?\n",
            "\n",
            "------------------\n",
            "\n",
            "Granger Causality\n",
            "number of lags (no zero) 1\n",
            "ssr based F test:         F=0.3729  , p=0.5426  , df_denom=119, df_num=1\n",
            "ssr based chi2 test:   chi2=0.3823  , p=0.5364  , df=1\n",
            "likelihood ratio test: chi2=0.3817  , p=0.5367  , df=1\n",
            "parameter F test:         F=0.3729  , p=0.5426  , df_denom=119, df_num=1\n",
            "\n",
            "Granger Causality\n",
            "number of lags (no zero) 2\n",
            "ssr based F test:         F=4.6201  , p=0.0117  , df_denom=116, df_num=2\n",
            "ssr based chi2 test:   chi2=9.6386  , p=0.0081  , df=2\n",
            "likelihood ratio test: chi2=9.2739  , p=0.0097  , df=2\n",
            "parameter F test:         F=4.6201  , p=0.0117  , df_denom=116, df_num=2\n",
            "\n",
            "Granger Causality\n",
            "number of lags (no zero) 3\n",
            "ssr based F test:         F=4.0976  , p=0.0084  , df_denom=113, df_num=3\n",
            "ssr based chi2 test:   chi2=13.0544 , p=0.0045  , df=3\n",
            "likelihood ratio test: chi2=12.3920 , p=0.0062  , df=3\n",
            "parameter F test:         F=4.0976  , p=0.0084  , df_denom=113, df_num=3\n",
            "\n",
            "Granger Causality\n",
            "number of lags (no zero) 4\n",
            "ssr based F test:         F=5.4664  , p=0.0005  , df_denom=110, df_num=4\n",
            "ssr based chi2 test:   chi2=23.6547 , p=0.0001  , df=4\n",
            "likelihood ratio test: chi2=21.5751 , p=0.0002  , df=4\n",
            "parameter F test:         F=5.4664  , p=0.0005  , df_denom=110, df_num=4\n"
          ]
        }
      ],
      "source": [
        "print('rgnp causes ulc?\\n')\n",
        "print('------------------')\n",
        "granger_1 = grangercausalitytests(macro_data[['ulc', 'rgnp']], 4)\n",
        "\n",
        "print('\\nulc causes rgnp?\\n')\n",
        "print('------------------')\n",
        "granger_2 = grangercausalitytests(macro_data[['rgnp', 'ulc']], 4)"
      ]
    },
    {
      "cell_type": "code",
      "execution_count": null,
      "metadata": {
        "id": "Tch4RcdVxGsd",
        "outputId": "e87048e4-36cf-4d43-ded9-5fc8d4f634fd"
      },
      "outputs": [
        {
          "name": "stdout",
          "output_type": "stream",
          "text": [
            "(123, 2)\n"
          ]
        }
      ],
      "source": [
        "macro_data = macro_data[['ulc','rgnp']]\n",
        "print(macro_data.shape)"
      ]
    },
    {
      "cell_type": "code",
      "execution_count": null,
      "metadata": {
        "id": "16vPCBCZxGsd"
      },
      "outputs": [],
      "source": [
        "train_df=macro_data[:-12]\n",
        "test_df=macro_data[-12:]"
      ]
    },
    {
      "cell_type": "code",
      "execution_count": null,
      "metadata": {
        "id": "JmmRNnTfxGse",
        "outputId": "28754232-aab9-4dd2-dab7-a3ae2f189b36"
      },
      "outputs": [
        {
          "name": "stdout",
          "output_type": "stream",
          "text": [
            "(12, 2)\n"
          ]
        }
      ],
      "source": [
        "print(test_df.shape)"
      ]
    },
    {
      "cell_type": "code",
      "execution_count": null,
      "metadata": {
        "id": "jJDrndHExGse"
      },
      "outputs": [],
      "source": [
        "model = VAR(train_df.diff()[1:])"
      ]
    },
    {
      "cell_type": "code",
      "execution_count": null,
      "metadata": {
        "id": "clgfHpt0xGse",
        "outputId": "d23ec799-5ac8-4d91-ff5b-4192fd7adefd"
      },
      "outputs": [
        {
          "name": "stdout",
          "output_type": "stream",
          "text": [
            " VAR Order Selection (* highlights the minimums)  \n",
            "==================================================\n",
            "       AIC         BIC         FPE         HQIC   \n",
            "--------------------------------------------------\n",
            "0        6.778       6.834       878.3       6.800\n",
            "1        5.988      6.154*       398.5       6.055\n",
            "2        5.942       6.220       380.9       6.054\n",
            "3        5.933       6.322       377.4       6.090\n",
            "4       5.793*       6.293      328.5*      5.995*\n",
            "5        5.873       6.484       356.3       6.120\n",
            "6        5.828       6.550       341.1       6.119\n",
            "7        5.894       6.727       365.0       6.230\n",
            "8        5.890       6.835       364.8       6.271\n",
            "9        5.942       6.998       385.8       6.368\n",
            "10       5.930       7.097       382.9       6.401\n",
            "11       5.913       7.191       378.5       6.428\n",
            "12       5.885       7.274       370.7       6.445\n",
            "13       5.925       7.424       388.6       6.529\n",
            "14       5.882       7.493       376.0       6.532\n",
            "15       5.950       7.672       406.9       6.644\n",
            "16       5.933       7.766       405.3       6.672\n",
            "17       5.947       7.891       417.1       6.731\n",
            "18       5.935       7.990       419.2       6.764\n",
            "19       5.964       8.130       439.9       6.838\n",
            "20       5.955       8.233       445.6       6.873\n",
            "--------------------------------------------------\n"
          ]
        }
      ],
      "source": [
        "sorted_order=model.select_order(maxlags=20)\n",
        "print(sorted_order.summary())"
      ]
    },
    {
      "cell_type": "code",
      "execution_count": null,
      "metadata": {
        "id": "roI_dELYxGsf",
        "outputId": "c8c4be2a-37c9-4946-b869-c99e90f81fe3"
      },
      "outputs": [
        {
          "name": "stdout",
          "output_type": "stream",
          "text": [
            "                           Statespace Model Results                           \n",
            "==============================================================================\n",
            "Dep. Variable:        ['ulc', 'rgnp']   No. Observations:                  111\n",
            "Model:                         VAR(4)   Log Likelihood              -11768.610\n",
            "                          + intercept   AIC                          23579.221\n",
            "Date:                Fri, 12 Jan 2024   BIC                          23636.121\n",
            "Time:                        20:01:21   HQIC                         23602.304\n",
            "Sample:                    01-01-1959                                         \n",
            "                         - 07-01-1986                                         \n",
            "Covariance Type:                  opg                                         \n",
            "===================================================================================\n",
            "Ljung-Box (L1) (Q):          30.49, 106.10   Jarque-Bera (JB):         17.34, 13.36\n",
            "Prob(Q):                        0.00, 0.00   Prob(JB):                   0.00, 0.00\n",
            "Heteroskedasticity (H):         1.51, 0.28   Skew:                      0.21, -0.85\n",
            "Prob(H) (two-sided):            0.22, 0.00   Kurtosis:                   4.89, 2.84\n",
            "                           Results for equation ulc                           \n",
            "==============================================================================\n",
            "                 coef    std err          z      P>|z|      [0.025      0.975]\n",
            "------------------------------------------------------------------------------\n",
            "intercept     89.2136      0.675    132.074      0.000      87.890      90.538\n",
            "L1.ulc        -0.8325      0.746     -1.116      0.264      -2.295       0.630\n",
            "L1.rgnp       -0.6120      0.285     -2.149      0.032      -1.170      -0.054\n",
            "L2.ulc        -0.3753      1.853     -0.203      0.839      -4.007       3.256\n",
            "L2.rgnp        0.1996      0.332      0.601      0.548      -0.451       0.850\n",
            "L3.ulc         1.4007      0.998      1.403      0.161      -0.556       3.357\n",
            "L3.rgnp        0.5036      0.157      3.199      0.001       0.195       0.812\n",
            "L4.ulc         1.4339      1.351      1.061      0.289      -1.214       4.082\n",
            "L4.rgnp       -0.1450      0.094     -1.550      0.121      -0.328       0.038\n",
            "                          Results for equation rgnp                           \n",
            "==============================================================================\n",
            "                 coef    std err          z      P>|z|      [0.025      0.975]\n",
            "------------------------------------------------------------------------------\n",
            "intercept   2614.7922      1.755   1490.181      0.000    2611.353    2618.231\n",
            "L1.ulc         2.2320      0.646      3.455      0.001       0.966       3.498\n",
            "L1.rgnp       -1.4101      0.142     -9.943      0.000      -1.688      -1.132\n",
            "L2.ulc         5.0605      1.022      4.953      0.000       3.058       7.063\n",
            "L2.rgnp        0.8414      0.139      6.066      0.000       0.570       1.113\n",
            "L3.ulc         7.4288      0.619     12.005      0.000       6.216       8.642\n",
            "L3.rgnp        0.4766      0.094      5.083      0.000       0.293       0.660\n",
            "L4.ulc         3.6910      0.701      5.262      0.000       2.316       5.066\n",
            "L4.rgnp       -0.4858      0.042    -11.550      0.000      -0.568      -0.403\n",
            "                               Error covariance matrix                               \n",
            "=====================================================================================\n",
            "                        coef    std err          z      P>|z|      [0.025      0.975]\n",
            "-------------------------------------------------------------------------------------\n",
            "sqrt.var.ulc         40.9628      7.678      5.335      0.000      25.914      56.011\n",
            "sqrt.cov.ulc.rgnp   -15.3730      7.206     -2.133      0.033     -29.497      -1.249\n",
            "sqrt.var.rgnp        26.7603      0.168    159.537      0.000      26.432      27.089\n",
            "=====================================================================================\n",
            "\n",
            "Warnings:\n",
            "[1] Covariance matrix calculated using the outer product of gradients (complex-step).\n",
            "[2] Covariance matrix is singular or near-singular, with condition number 2.03e+17. Standard errors may be unstable.\n"
          ]
        }
      ],
      "source": [
        "var_model = VARMAX(train_df, order=(4,0),enforce_stationarity= True)\n",
        "fitted_model = var_model.fit(disp=False)\n",
        "print(fitted_model.summary())"
      ]
    },
    {
      "cell_type": "code",
      "execution_count": null,
      "metadata": {
        "id": "2JjhGmTExGsf"
      },
      "outputs": [],
      "source": [
        "n_forecast = 12\n",
        "predict = fitted_model.get_prediction(start=len(train_df),end=len(train_df) + n_forecast-1)#start=\"1989-07-01\",end='1999-01-01')\n",
        "\n",
        "predictions=predict.predicted_mean"
      ]
    },
    {
      "cell_type": "code",
      "execution_count": null,
      "metadata": {
        "id": "FJ_W6Z-ExGsf",
        "outputId": "f2a4a22f-c383-4ae9-cf12-31830be03ba4"
      },
      "outputs": [
        {
          "data": {
            "text/html": [
              "<div>\n",
              "<style scoped>\n",
              "    .dataframe tbody tr th:only-of-type {\n",
              "        vertical-align: middle;\n",
              "    }\n",
              "\n",
              "    .dataframe tbody tr th {\n",
              "        vertical-align: top;\n",
              "    }\n",
              "\n",
              "    .dataframe thead th {\n",
              "        text-align: right;\n",
              "    }\n",
              "</style>\n",
              "<table border=\"1\" class=\"dataframe\">\n",
              "  <thead>\n",
              "    <tr style=\"text-align: right;\">\n",
              "      <th></th>\n",
              "      <th>ulc_predicted</th>\n",
              "      <th>rgnp_predicted</th>\n",
              "    </tr>\n",
              "  </thead>\n",
              "  <tbody>\n",
              "    <tr>\n",
              "      <th>1986-10-01</th>\n",
              "      <td>166.761592</td>\n",
              "      <td>3579.079092</td>\n",
              "    </tr>\n",
              "    <tr>\n",
              "      <th>1987-01-01</th>\n",
              "      <td>237.714600</td>\n",
              "      <td>3754.029706</td>\n",
              "    </tr>\n",
              "    <tr>\n",
              "      <th>1987-04-01</th>\n",
              "      <td>59.732561</td>\n",
              "      <td>3570.606889</td>\n",
              "    </tr>\n",
              "    <tr>\n",
              "      <th>1987-07-01</th>\n",
              "      <td>257.848896</td>\n",
              "      <td>3847.917047</td>\n",
              "    </tr>\n",
              "    <tr>\n",
              "      <th>1987-10-01</th>\n",
              "      <td>153.817994</td>\n",
              "      <td>3502.938712</td>\n",
              "    </tr>\n",
              "    <tr>\n",
              "      <th>1988-01-01</th>\n",
              "      <td>167.281382</td>\n",
              "      <td>3760.367687</td>\n",
              "    </tr>\n",
              "    <tr>\n",
              "      <th>1988-04-01</th>\n",
              "      <td>157.228125</td>\n",
              "      <td>3646.807883</td>\n",
              "    </tr>\n",
              "    <tr>\n",
              "      <th>1988-07-01</th>\n",
              "      <td>205.865711</td>\n",
              "      <td>3728.536431</td>\n",
              "    </tr>\n",
              "    <tr>\n",
              "      <th>1988-10-01</th>\n",
              "      <td>145.799634</td>\n",
              "      <td>3581.733241</td>\n",
              "    </tr>\n",
              "    <tr>\n",
              "      <th>1989-01-01</th>\n",
              "      <td>194.431646</td>\n",
              "      <td>3765.400651</td>\n",
              "    </tr>\n",
              "    <tr>\n",
              "      <th>1989-04-01</th>\n",
              "      <td>146.101870</td>\n",
              "      <td>3605.805953</td>\n",
              "    </tr>\n",
              "    <tr>\n",
              "      <th>1989-07-01</th>\n",
              "      <td>202.257391</td>\n",
              "      <td>3747.253014</td>\n",
              "    </tr>\n",
              "  </tbody>\n",
              "</table>\n",
              "</div>"
            ],
            "text/plain": [
              "            ulc_predicted  rgnp_predicted\n",
              "1986-10-01     166.761592     3579.079092\n",
              "1987-01-01     237.714600     3754.029706\n",
              "1987-04-01      59.732561     3570.606889\n",
              "1987-07-01     257.848896     3847.917047\n",
              "1987-10-01     153.817994     3502.938712\n",
              "1988-01-01     167.281382     3760.367687\n",
              "1988-04-01     157.228125     3646.807883\n",
              "1988-07-01     205.865711     3728.536431\n",
              "1988-10-01     145.799634     3581.733241\n",
              "1989-01-01     194.431646     3765.400651\n",
              "1989-04-01     146.101870     3605.805953\n",
              "1989-07-01     202.257391     3747.253014"
            ]
          },
          "execution_count": 13,
          "metadata": {},
          "output_type": "execute_result"
        }
      ],
      "source": [
        "predictions.columns=['ulc_predicted','rgnp_predicted']\n",
        "predictions"
      ]
    },
    {
      "cell_type": "code",
      "execution_count": null,
      "metadata": {
        "id": "mTWtSPtxxGsg"
      },
      "outputs": [],
      "source": [
        "test_vs_pred=pd.concat([test_df,predictions],axis=1)"
      ]
    },
    {
      "cell_type": "code",
      "execution_count": null,
      "metadata": {
        "id": "FnuRD1PUxGsg",
        "outputId": "ed894f9f-5343-474b-b822-979aef3131fc"
      },
      "outputs": [
        {
          "data": {
            "text/plain": [
              "<Axes: >"
            ]
          },
          "execution_count": 15,
          "metadata": {},
          "output_type": "execute_result"
        },
        {
          "data": {
            "image/png": "[encoded data removed]",
            "text/plain": [
              "<Figure size 1200x500 with 1 Axes>"
            ]
          },
          "metadata": {},
          "output_type": "display_data"
        }
      ],
      "source": [
        "test_vs_pred.plot(figsize=(12,5))"
      ]
    },
    {
      "cell_type": "code",
      "execution_count": null,
      "metadata": {
        "id": "5Fk-j63QxGsh",
        "outputId": "04c02002-e417-4a61-c493-62a1221a46d9"
      },
      "outputs": [
        {
          "ename": "NameError",
          "evalue": "name 'predictions' is not defined",
          "output_type": "error",
          "traceback": [
            "\u001b[1;31m---------------------------------------------------------------------------\u001b[0m",
            "\u001b[1;31mNameError\u001b[0m                                 Traceback (most recent call last)",
            "Cell \u001b[1;32mIn[1], line 5\u001b[0m\n\u001b[0;32m      2\u001b[0m \u001b[38;5;28;01mimport\u001b[39;00m \u001b[38;5;21;01mmath\u001b[39;00m \n\u001b[0;32m      3\u001b[0m \u001b[38;5;28;01mfrom\u001b[39;00m \u001b[38;5;21;01mstatistics\u001b[39;00m \u001b[38;5;28;01mimport\u001b[39;00m mean\n\u001b[1;32m----> 5\u001b[0m rmse_ulc\u001b[38;5;241m=\u001b[39mmath\u001b[38;5;241m.\u001b[39msqrt(mean_squared_error(\u001b[43mpredictions\u001b[49m[\u001b[38;5;124m'\u001b[39m\u001b[38;5;124mulc_predicted\u001b[39m\u001b[38;5;124m'\u001b[39m],test_df[\u001b[38;5;124m'\u001b[39m\u001b[38;5;124mulc\u001b[39m\u001b[38;5;124m'\u001b[39m]))\n\u001b[0;32m      6\u001b[0m \u001b[38;5;28mprint\u001b[39m(\u001b[38;5;124m'\u001b[39m\u001b[38;5;124mMean value of ULC is : \u001b[39m\u001b[38;5;132;01m{}\u001b[39;00m\u001b[38;5;124m. Root Mean Squared Error is :\u001b[39m\u001b[38;5;132;01m{}\u001b[39;00m\u001b[38;5;124m'\u001b[39m\u001b[38;5;241m.\u001b[39mformat(mean(test_df[\u001b[38;5;124m'\u001b[39m\u001b[38;5;124mulc\u001b[39m\u001b[38;5;124m'\u001b[39m]),rmse_ulc))\n\u001b[0;32m      8\u001b[0m rmse_rgnp\u001b[38;5;241m=\u001b[39mmath\u001b[38;5;241m.\u001b[39msqrt(mean_squared_error(predictions[\u001b[38;5;124m'\u001b[39m\u001b[38;5;124mrgnp_predicted\u001b[39m\u001b[38;5;124m'\u001b[39m],test_df[\u001b[38;5;124m'\u001b[39m\u001b[38;5;124mrgnp\u001b[39m\u001b[38;5;124m'\u001b[39m]))\n",
            "\u001b[1;31mNameError\u001b[0m: name 'predictions' is not defined"
          ]
        }
      ],
      "source": [
        "from sklearn.metrics import mean_squared_error\n",
        "import math\n",
        "from statistics import mean\n",
        "\n",
        "rmse_ulc=math.sqrt(mean_squared_error(predictions['ulc_predicted'],test_df['ulc']))\n",
        "print('Mean value of ULC is : {}. Root Mean Squared Error is :{}'.format(mean(test_df['ulc']),rmse_ulc))\n",
        "\n",
        "rmse_rgnp=math.sqrt(mean_squared_error(predictions['rgnp_predicted'],test_df['rgnp']))\n",
        "print('Mean value of RGNP is : {}. Root Mean Squared Error is :{}'.format(mean(test_df['rgnp']),rmse_rgnp))"
      ]
    },
    {
      "cell_type": "code",
      "execution_count": null,
      "metadata": {
        "id": "zvnRuJlKxGsi"
      },
      "outputs": [],
      "source": []
    }
  ],
  "metadata": {
    "kernelspec": {
      "display_name": "Python 3",
      "language": "python",
      "name": "python3"
    },
    "language_info": {
      "codemirror_mode": {
        "name": "ipython",
        "version": 3
      },
      "file_extension": ".py",
      "mimetype": "text/x-python",
      "name": "python",
      "nbconvert_exporter": "python",
      "pygments_lexer": "ipython3",
      "version": "3.10.11"
    },
    "colab": {
      "provenance": []
    }
  },
  "nbformat": 4,
  "nbformat_minor": 0
}